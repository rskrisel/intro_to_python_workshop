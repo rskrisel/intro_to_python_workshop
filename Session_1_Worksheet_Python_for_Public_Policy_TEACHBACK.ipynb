{
  "cells": [
    {
      "cell_type": "markdown",
      "metadata": {
        "id": "view-in-github",
        "colab_type": "text"
      },
      "source": [
        "<a href=\"https://colab.research.google.com/github/rskrisel/intro_to_python_workshop/blob/main/Session_1_Worksheet_Python_for_Public_Policy_TEACHBACK.ipynb\" target=\"_parent\"><img src=\"https://colab.research.google.com/assets/colab-badge.svg\" alt=\"Open In Colab\"/></a>"
      ]
    },
    {
      "cell_type": "markdown",
      "id": "7b7b87b0",
      "metadata": {
        "id": "7b7b87b0"
      },
      "source": [
        "# Python for Public Policy — Session 1 Worksheet\n",
        "\n",
        "**Theme:** Python + GitHub Foundations\n",
        "\n",
        "> Use this notebook during the 60‑minute student-driven block. Push it to GitHub at the end.\n",
        "\n",
        "**Legend:**\n",
        "- 🔹 Core task (everyone)\n",
        "- 🚀 Stretch Corner (optional, for faster/experienced students — scaffold only, no full solutions)"
      ]
    },
    {
      "cell_type": "markdown",
      "id": "dc3384a6",
      "metadata": {
        "id": "dc3384a6"
      },
      "source": [
        "## Part A: GitHub Setup (15–20 minutes)\n",
        "\n",
        "🔹 1) **Create a GitHub repository** named `python_policy_session1` and initialize it with a `README.md`.\n",
        "\n",
        "🔹 2) In Colab: **File → Save a copy in GitHub** to push this notebook to your repo.\n",
        "\n",
        "🔹 3) **Reflection (2–3 sentences):** Why might having your code on GitHub matter for policy, research, or transparency? How could this repository evolve into your professional portfolio?\n",
        "\n",
        "_Type below or in the code cell:_"
      ]
    },
    {
      "cell_type": "code",
      "execution_count": null,
      "id": "481fdc2e",
      "metadata": {
        "id": "481fdc2e"
      },
      "outputs": [],
      "source": [
        "# (Optional) Write your brief reflection as a Python multiline string\n",
        "reflection = '''\n",
        "Your notes here...\n",
        "'''\n",
        "print(reflection)"
      ]
    },
    {
      "cell_type": "markdown",
      "id": "0c8adce2",
      "metadata": {
        "id": "0c8adce2"
      },
      "source": [
        "🚀 **Stretch Corner – GitHub/Portfolio**\n",
        "- Add a short, scannable **README.md** outline to your repo:\n",
        "  - Title, 1–2 sentence project summary\n",
        "  - \"How to run\" section (e.g., Open in Colab)\n",
        "  - A bullet list of learning goals\n",
        "- Make a second commit with a meaningful message, e.g., `feat: add session 1 notebook`"
      ]
    },
    {
      "cell_type": "markdown",
      "id": "48073818",
      "metadata": {
        "id": "48073818"
      },
      "source": [
        "---\n",
        "\n",
        "## Part B: Python Basics (25–30 minutes)\n",
        "Run each cell, then modify as prompted."
      ]
    },
    {
      "cell_type": "markdown",
      "id": "3a54949a",
      "metadata": {
        "id": "3a54949a"
      },
      "source": [
        "### Variables & printing (Core)"
      ]
    },
    {
      "cell_type": "code",
      "execution_count": null,
      "id": "1e99b2e2",
      "metadata": {
        "id": "1e99b2e2"
      },
      "outputs": [],
      "source": [
        "country = 'Colombia'\n",
        "population = 52_000_000\n",
        "print('Country:', country, '| Population:', population)"
      ]
    },
    {
      "cell_type": "markdown",
      "id": "0af1e516",
      "metadata": {
        "id": "0af1e516"
      },
      "source": [
        "**Modify (Core):** Change `country` and `population` to something relevant to your interests."
      ]
    },
    {
      "cell_type": "markdown",
      "id": "07b0a440",
      "metadata": {
        "id": "07b0a440"
      },
      "source": [
        "🚀 **Stretch Corner – f-strings & formatting**\n",
        "- Create two variables, e.g., `gdp = 343.2` and `growth = 3.2456`.\n",
        "- Use an f-string to print: `GDP is 343.2 (USD billions), growth is 3.25%` (rounded to 2 decimals).\n",
        "- Scaffold below:"
      ]
    },
    {
      "cell_type": "code",
      "execution_count": null,
      "id": "387f5235",
      "metadata": {
        "id": "387f5235"
      },
      "outputs": [],
      "source": [
        "# gdp = ...\n",
        "# growth = ...\n",
        "# print(f\"GDP is {gdp} (USD billions), growth is {growth:.2f}%\")"
      ]
    },
    {
      "cell_type": "markdown",
      "id": "15dcd4f2",
      "metadata": {
        "id": "15dcd4f2"
      },
      "source": [
        "### Lists (Core)"
      ]
    },
    {
      "cell_type": "code",
      "execution_count": null,
      "id": "60226836",
      "metadata": {
        "id": "60226836"
      },
      "outputs": [],
      "source": [
        "policy_areas = ['climate change', 'education', 'healthcare']\n",
        "print(policy_areas)\n",
        "print('Second element:', policy_areas[1])"
      ]
    },
    {
      "cell_type": "markdown",
      "id": "7036204f",
      "metadata": {
        "id": "7036204f"
      },
      "source": [
        "**Modify (Core):** Replace the list with **three** issues that interest _you_. Add a fourth item and rerun."
      ]
    },
    {
      "cell_type": "markdown",
      "id": "14df6c2b",
      "metadata": {
        "id": "14df6c2b"
      },
      "source": [
        "🚀 **Stretch Corner – list building**\n",
        "- Ask the user for policy issues until they type `done`, then store them in a list.\n",
        "- Print the list using `enumerate` (starting at 1).\n",
        "- Scaffold below:"
      ]
    },
    {
      "cell_type": "code",
      "execution_count": null,
      "id": "f7cc9cc6",
      "metadata": {
        "id": "f7cc9cc6"
      },
      "outputs": [],
      "source": [
        "# issues = []\n",
        "# while True:\n",
        "#     entry = input(\"Add an issue (or type 'done'): \")\n",
        "#     if entry.lower() == 'done':\n",
        "#         break\n",
        "#     ...\n",
        "\n",
        "# for i, issue in enumerate(issues, start=1):\n",
        "#     print(i, issue)"
      ]
    },
    {
      "cell_type": "markdown",
      "id": "4bc37a8b",
      "metadata": {
        "id": "4bc37a8b"
      },
      "source": [
        "### Conditionals (Core)"
      ]
    },
    {
      "cell_type": "code",
      "execution_count": null,
      "id": "95e31ea8",
      "metadata": {
        "id": "95e31ea8"
      },
      "outputs": [],
      "source": [
        "gdp_growth = 3.2\n",
        "if gdp_growth > 2:\n",
        "    print('Growing economy')\n",
        "else:\n",
        "    print('Stagnant economy')"
      ]
    },
    {
      "cell_type": "markdown",
      "id": "852f60b5",
      "metadata": {
        "id": "852f60b5"
      },
      "source": [
        "**Modify (Core):** Change the threshold and messages to match your scenario."
      ]
    },
    {
      "cell_type": "markdown",
      "id": "26bda9de",
      "metadata": {
        "id": "26bda9de"
      },
      "source": [
        "🚀 **Stretch Corner – input + conditionals**\n",
        "- Prompt the user for a growth rate with `input()`.\n",
        "- Convert it to a float.\n",
        "- Print a label: `<2%: low`, `2–5%: medium`, `>5%: high`.\n",
        "- Scaffold below:"
      ]
    },
    {
      "cell_type": "code",
      "execution_count": null,
      "id": "f6d8ac9c",
      "metadata": {
        "id": "f6d8ac9c"
      },
      "outputs": [],
      "source": [
        "# raw = input(\"Enter growth rate in %: \")\n",
        "# g = float(raw)\n",
        "# if g < 2:\n",
        "#     ...\n",
        "# elif g <= 5:\n",
        "#     ...\n",
        "# else:\n",
        "#     ..."
      ]
    },
    {
      "cell_type": "markdown",
      "id": "6014f060",
      "metadata": {
        "id": "6014f060"
      },
      "source": [
        "### Loops (Core)"
      ]
    },
    {
      "cell_type": "code",
      "execution_count": null,
      "id": "17d4ea0a",
      "metadata": {
        "id": "17d4ea0a"
      },
      "outputs": [],
      "source": [
        "for area in policy_areas:\n",
        "    print('Priority:', area)"
      ]
    },
    {
      "cell_type": "markdown",
      "id": "9647e6b0",
      "metadata": {
        "id": "9647e6b0"
      },
      "source": [
        "**Modify (Core):** Add one more item to the list and rerun."
      ]
    },
    {
      "cell_type": "markdown",
      "id": "126b4079",
      "metadata": {
        "id": "126b4079"
      },
      "source": [
        "🚀 **Stretch Corner – enumerate loop**\n",
        "- Use `enumerate` to number your policy areas.\n",
        "- Scaffold below:"
      ]
    },
    {
      "cell_type": "code",
      "execution_count": null,
      "id": "ef1d48de",
      "metadata": {
        "id": "ef1d48de"
      },
      "outputs": [],
      "source": [
        "# for i, area in enumerate(policy_areas, start=1):\n",
        "#     print(i, area)"
      ]
    },
    {
      "cell_type": "markdown",
      "id": "3f123dbe",
      "metadata": {
        "id": "3f123dbe"
      },
      "source": [
        "---\n",
        "\n",
        "## Part C: Apply It to Policy (20 minutes)\n",
        "Pick **one** of the mini‑projects below. Write and run the code, then add 1–2 sentences explaining what it shows."
      ]
    },
    {
      "cell_type": "markdown",
      "id": "80ffc9a2",
      "metadata": {
        "id": "80ffc9a2"
      },
      "source": [
        "### Option 1: Population Growth (Core)"
      ]
    },
    {
      "cell_type": "code",
      "execution_count": null,
      "id": "c5bb2f40",
      "metadata": {
        "id": "c5bb2f40"
      },
      "outputs": [],
      "source": [
        "population_2020 = 50_000_000\n",
        "population_2025 = 52_000_000\n",
        "\n",
        "growth = (population_2025 - population_2020) / population_2020 * 100\n",
        "\n",
        "if growth < 5:\n",
        "    label = 'Low growth'\n",
        "elif growth < 15:\n",
        "    label = 'Medium growth'\n",
        "else:\n",
        "    label = 'High growth'\n",
        "\n",
        "print(label + ':', round(growth, 2), '%')"
      ]
    },
    {
      "cell_type": "markdown",
      "id": "d45861d5",
      "metadata": {
        "id": "d45861d5"
      },
      "source": [
        "🚀 **Stretch Corner – wrap in a function**\n",
        "- Write `def classify_growth(past, current):` that returns a label and percentage.\n",
        "- Scaffold below:"
      ]
    },
    {
      "cell_type": "code",
      "execution_count": null,
      "id": "84dc6593",
      "metadata": {
        "id": "84dc6593"
      },
      "outputs": [],
      "source": [
        "# def classify_growth(past, current):\n",
        "#     ...\n",
        "#     return label, pct\n",
        "\n",
        "# print(classify_growth(100, 120))"
      ]
    },
    {
      "cell_type": "markdown",
      "id": "69374086",
      "metadata": {
        "id": "69374086"
      },
      "source": [
        "### Option 2: Policy Priorities (Core)"
      ]
    },
    {
      "cell_type": "code",
      "execution_count": null,
      "id": "5e1f4fb4",
      "metadata": {
        "id": "5e1f4fb4"
      },
      "outputs": [],
      "source": [
        "issues = ['climate change', 'inequality', 'immigration', 'education', 'healthcare']\n",
        "for i, issue in enumerate(issues, start=1):\n",
        "    print(i, issue)\n",
        "\n",
        "for issue in issues:\n",
        "    if issue == 'climate change':\n",
        "        print(issue, '- urgent')"
      ]
    },
    {
      "cell_type": "markdown",
      "id": "00589e9b",
      "metadata": {
        "id": "00589e9b"
      },
      "source": [
        "🚀 **Stretch Corner – simple scoring**\n",
        "- Ask the user to rate each issue 1–5.\n",
        "- Print the issues sorted by score.\n",
        "- Scaffold below:"
      ]
    },
    {
      "cell_type": "code",
      "execution_count": null,
      "id": "1f502ef4",
      "metadata": {
        "id": "1f502ef4"
      },
      "outputs": [],
      "source": [
        "# scores = {}\n",
        "# for issue in issues:\n",
        "#     val = int(input(f\"Rate priority for {issue} (1–5): \"))\n",
        "#     scores[issue] = val\n",
        "\n",
        "# for issue, sc in sorted(scores.items(), key=lambda x: x[1], reverse=True):\n",
        "#     print(issue, sc)"
      ]
    },
    {
      "cell_type": "markdown",
      "id": "56769b75",
      "metadata": {
        "id": "56769b75"
      },
      "source": [
        "### Option 3: Your Own Twist (Core)"
      ]
    },
    {
      "cell_type": "code",
      "execution_count": null,
      "id": "c2174c79",
      "metadata": {
        "id": "c2174c79"
      },
      "outputs": [],
      "source": [
        "# Write a 5–10 line script that connects a personal/policy interest to variables, lists,\n",
        "# conditionals, or loops."
      ]
    },
    {
      "cell_type": "markdown",
      "id": "1849bf42",
      "metadata": {
        "id": "1849bf42"
      },
      "source": [
        "---\n",
        "\n",
        "## Part D: Troubleshooting Practice (10 minutes)\n",
        "🔹 Introduce one error, run the cell, read the error, and fix it. Then describe what happened."
      ]
    },
    {
      "cell_type": "code",
      "execution_count": null,
      "id": "da5013c4",
      "metadata": {
        "id": "da5013c4"
      },
      "outputs": [],
      "source": [
        "# Example: print('Hello policy world!'\n",
        "\n",
        "# Fix below:\n",
        "print('Hello policy world!')"
      ]
    },
    {
      "cell_type": "markdown",
      "id": "09ca1dec",
      "metadata": {
        "id": "09ca1dec"
      },
      "source": [
        "🚀 **Stretch Corner – pinpoint errors**\n",
        "- Copy an error message and explain **which line** failed and **why**.\n",
        "- Show a corrected version."
      ]
    },
    {
      "cell_type": "markdown",
      "id": "76363a44",
      "metadata": {
        "id": "76363a44"
      },
      "source": [
        "---\n",
        "\n",
        "## Part E: Code Reading Practice\n",
        "🔹 Translate code into English. Predict what it will do **before running**, then check."
      ]
    },
    {
      "cell_type": "markdown",
      "id": "fd59915a",
      "metadata": {
        "id": "fd59915a"
      },
      "source": [
        "### Example 1\n",
        "```python\n",
        "for city in [\"Paris\", \"Nairobi\", \"Tokyo\"]:\n",
        "    print(\"My favorite city is\", city)\n",
        "```\n",
        "👉 In English: This code ..."
      ]
    },
    {
      "cell_type": "code",
      "execution_count": null,
      "id": "7eb4fb3e",
      "metadata": {
        "id": "7eb4fb3e"
      },
      "outputs": [],
      "source": [
        "for city in [\"Paris\", \"Nairobi\", \"Tokyo\"]:\n",
        "    print(\"My favorite city is\", city)"
      ]
    },
    {
      "cell_type": "markdown",
      "id": "94e984b1",
      "metadata": {
        "id": "94e984b1"
      },
      "source": [
        "### Example 2\n",
        "```python\n",
        "def add_one(x):\n",
        "    return x + 1\n",
        "```\n",
        "👉 In English: This function ..."
      ]
    },
    {
      "cell_type": "code",
      "execution_count": null,
      "id": "58335453",
      "metadata": {
        "id": "58335453"
      },
      "outputs": [],
      "source": [
        "def add_one(x):\n",
        "    return x + 1\n",
        "\n",
        "print(add_one(2))"
      ]
    },
    {
      "cell_type": "markdown",
      "id": "db8c706c",
      "metadata": {
        "id": "db8c706c"
      },
      "source": [
        "### Example 3\n",
        "```python\n",
        "for i, issue in enumerate([\"climate\", \"education\", \"healthcare\"], start=1):\n",
        "    print(i, issue)\n",
        "```\n",
        "👉 In English: This loop ..."
      ]
    },
    {
      "cell_type": "code",
      "execution_count": null,
      "id": "3ec1d0b1",
      "metadata": {
        "id": "3ec1d0b1"
      },
      "outputs": [],
      "source": [
        "for i, issue in enumerate([\"climate\", \"education\", \"healthcare\"], start=1):\n",
        "    print(i, issue)"
      ]
    },
    {
      "cell_type": "markdown",
      "id": "958700d7",
      "metadata": {
        "id": "958700d7"
      },
      "source": [
        "---\n",
        "\n",
        "## Part F: Teach-Back Guide\n",
        "Instead of giving a polished presentation, your group will **teach the class** by walking through your notebook. Use this checklist to guide your walkthrough."
      ]
    },
    {
      "cell_type": "markdown",
      "id": "69d3cdda",
      "metadata": {
        "id": "69d3cdda"
      },
      "source": [
        "### 1. Set the Stage (1 min)\n",
        "- Say which option you worked on.\n",
        "- State your goal (variables, loop, function, etc.).\n",
        "\n",
        "### 2. Walk Through Code (3 min)\n",
        "- Read each line aloud.\n",
        "- Translate into plain English.\n",
        "- Run it so we see the output.\n",
        "\n",
        "### 3. Highlight Challenges (1–2 min)\n",
        "- Show at least one error + how you fixed it.\n",
        "- Point out helpful comments.\n",
        "- Share if you tried a stretch task.\n",
        "\n",
        "### 4. Reflect (1 min)\n",
        "- One discovery you made.\n",
        "- One thing you’d try next if you had more time.\n",
        "\n",
        "✅ Tip: Focus on **process**, not perfection. Use plain English as if explaining to a policymaker.\n",
        "\n",
        "👉 End by asking: *“Any questions about our code?”*"
      ]
    },
    {
      "cell_type": "markdown",
      "id": "a7f58dfa",
      "metadata": {
        "id": "a7f58dfa"
      },
      "source": [
        "---\n",
        "\n",
        "## (Optional) Save to GitHub from Colab\n",
        "Use **File → Save a copy in GitHub**. Choose the repo you created (`python_policy_session1`). Add a short commit message (e.g., _Session 1 work_)."
      ]
    }
  ],
  "metadata": {
    "colab": {
      "provenance": [],
      "include_colab_link": true
    }
  },
  "nbformat": 4,
  "nbformat_minor": 5
}