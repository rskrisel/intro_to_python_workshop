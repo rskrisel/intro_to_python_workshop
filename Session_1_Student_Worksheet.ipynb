{
  "cells": [
    {
      "cell_type": "markdown",
      "metadata": {
        "id": "view-in-github",
        "colab_type": "text"
      },
      "source": [
        "<a href=\"https://colab.research.google.com/github/rskrisel/intro_to_python_workshop/blob/main/Session_1_Student_Worksheet.ipynb\" target=\"_parent\"><img src=\"https://colab.research.google.com/assets/colab-badge.svg\" alt=\"Open In Colab\"/></a>"
      ]
    },
    {
      "cell_type": "markdown",
      "id": "62b8a3e5",
      "metadata": {
        "id": "62b8a3e5"
      },
      "source": [
        "# 📝 Python for Public Policy — Session 1 Worksheet  \n",
        "**Theme:** Python + GitHub Foundations  \n",
        "\n",
        "Use this notebook during the 60-minute student-driven block. Push it to GitHub at the end.  \n",
        "\n",
        "**Legend:**  \n",
        "🔹 Core task (everyone)  \n",
        "🚀 Stretch Corner (optional, for faster/experienced students — scaffold only, no full solutions)  \n"
      ]
    },
    {
      "cell_type": "markdown",
      "id": "a303bb33",
      "metadata": {
        "id": "a303bb33"
      },
      "source": [
        "## Part A: GitHub Setup (15–20 minutes)"
      ]
    },
    {
      "cell_type": "markdown",
      "id": "2ce5087f",
      "metadata": {
        "id": "2ce5087f"
      },
      "source": [
        "🔹 **1)** Create a GitHub repository named `python_policy_session1` and initialize it with a `README.md`.  \n",
        "\n",
        "🔹 **2)** In Colab: *File → Save a copy in GitHub* to push this notebook to your repo.  \n",
        "\n",
        "🔹 **3)** Reflection (2–3 sentences): Why might having your code on GitHub matter for policy, research, or transparency? How could this repository evolve into your professional portfolio?  \n"
      ]
    },
    {
      "cell_type": "code",
      "execution_count": null,
      "id": "c38d4a3d",
      "metadata": {
        "id": "c38d4a3d"
      },
      "outputs": [],
      "source": [
        "# (Optional) Write your brief reflection as a Python multiline string\n",
        "reflection = '''\n",
        "Your notes here...\n",
        "'''\n",
        "print(reflection)"
      ]
    },
    {
      "cell_type": "markdown",
      "id": "edb16339",
      "metadata": {
        "id": "edb16339"
      },
      "source": [
        "🚀 **Stretch Corner – GitHub/Portfolio**  \n",
        "- Add a short, scannable `README.md` outline to your repo:  \n",
        "  - Title, 1–2 sentence project summary  \n",
        "  - \"How to run\" section (e.g., Open in Colab)  \n",
        "  - A bullet list of learning goals  \n",
        "- Make a second commit with a meaningful message, e.g., `feat: add session 1 notebook`  \n"
      ]
    },
    {
      "cell_type": "markdown",
      "id": "f47bf5fc",
      "metadata": {
        "id": "f47bf5fc"
      },
      "source": [
        "## Part B: Python Basics (25–30 minutes)"
      ]
    },
    {
      "cell_type": "markdown",
      "id": "146c91dc",
      "metadata": {
        "id": "146c91dc"
      },
      "source": [
        "### Variables & printing (Core)"
      ]
    },
    {
      "cell_type": "code",
      "execution_count": null,
      "id": "47e7f818",
      "metadata": {
        "id": "47e7f818"
      },
      "outputs": [],
      "source": [
        "country = 'Colombia'\n",
        "population = 52_000_000\n",
        "print('Country:', country, '| Population:', population)\n",
        "\n",
        "# Modify (Core): Change country and population to something relevant to your interests."
      ]
    },
    {
      "cell_type": "markdown",
      "id": "0067a443",
      "metadata": {
        "id": "0067a443"
      },
      "source": [
        "🚀 Stretch Corner – f-strings & formatting"
      ]
    },
    {
      "cell_type": "code",
      "execution_count": null,
      "id": "aa601f17",
      "metadata": {
        "id": "aa601f17"
      },
      "outputs": [],
      "source": [
        "# gdp = ...\n",
        "# growth = ...\n",
        "# print(f\"GDP is {gdp} (USD billions), growth is {growth:.2f}%\")"
      ]
    },
    {
      "cell_type": "markdown",
      "id": "cc093e3b",
      "metadata": {
        "id": "cc093e3b"
      },
      "source": [
        "### Lists (Core)"
      ]
    },
    {
      "cell_type": "code",
      "execution_count": null,
      "id": "1885a5fb",
      "metadata": {
        "id": "1885a5fb"
      },
      "outputs": [],
      "source": [
        "policy_areas = ['climate change', 'education', 'healthcare']\n",
        "print(policy_areas)\n",
        "print('Second element:', policy_areas[1])\n",
        "\n",
        "# Modify (Core): Replace with issues that interest you. Add a 4th item and rerun."
      ]
    },
    {
      "cell_type": "markdown",
      "id": "d6a6b1db",
      "metadata": {
        "id": "d6a6b1db"
      },
      "source": [
        "🚀 Stretch Corner – list building"
      ]
    },
    {
      "cell_type": "code",
      "execution_count": null,
      "id": "b168d798",
      "metadata": {
        "id": "b168d798"
      },
      "outputs": [],
      "source": [
        "# issues = []\n",
        "# while True:\n",
        "#     entry = input(\"Add an issue (or type 'done'): \")\n",
        "#     if entry.lower() == 'done':\n",
        "#         break\n",
        "#     issues.append(entry)\n",
        "\n",
        "# for i, issue in enumerate(issues, start=1):\n",
        "#     print(i, issue)"
      ]
    },
    {
      "cell_type": "markdown",
      "id": "b7aa5776",
      "metadata": {
        "id": "b7aa5776"
      },
      "source": [
        "### Conditionals (Core)"
      ]
    },
    {
      "cell_type": "code",
      "execution_count": null,
      "id": "da24bb97",
      "metadata": {
        "id": "da24bb97"
      },
      "outputs": [],
      "source": [
        "gdp_growth = 3.2\n",
        "if gdp_growth > 2:\n",
        "    print('Growing economy')\n",
        "else:\n",
        "    print('Stagnant economy')\n",
        "\n",
        "# Modify (Core): Change the threshold and messages to match your scenario."
      ]
    },
    {
      "cell_type": "markdown",
      "id": "a6b6a262",
      "metadata": {
        "id": "a6b6a262"
      },
      "source": [
        "🚀 Stretch Corner – input + conditionals"
      ]
    },
    {
      "cell_type": "code",
      "execution_count": null,
      "id": "50fd4e4d",
      "metadata": {
        "id": "50fd4e4d"
      },
      "outputs": [],
      "source": [
        "# raw = input(\"Enter growth rate in %: \")\n",
        "# g = float(raw)\n",
        "# if g < 2:\n",
        "#     print('low')\n",
        "# elif g <= 5:\n",
        "#     print('medium')\n",
        "# else:\n",
        "#     print('high')"
      ]
    },
    {
      "cell_type": "markdown",
      "id": "67235cec",
      "metadata": {
        "id": "67235cec"
      },
      "source": [
        "### Loops (Core)"
      ]
    },
    {
      "cell_type": "code",
      "execution_count": null,
      "id": "09bfaccf",
      "metadata": {
        "id": "09bfaccf"
      },
      "outputs": [],
      "source": [
        "for area in policy_areas:\n",
        "    print('Priority:', area)\n",
        "\n",
        "# Modify (Core): Add one more item to the list and rerun."
      ]
    },
    {
      "cell_type": "markdown",
      "id": "f0afb30c",
      "metadata": {
        "id": "f0afb30c"
      },
      "source": [
        "🚀 Stretch Corner – enumerate loop"
      ]
    },
    {
      "cell_type": "code",
      "execution_count": null,
      "id": "ff0c53e8",
      "metadata": {
        "id": "ff0c53e8"
      },
      "outputs": [],
      "source": [
        "# for i, area in enumerate(policy_areas, start=1):\n",
        "#     print(i, area)"
      ]
    },
    {
      "cell_type": "markdown",
      "id": "e66cceb8",
      "metadata": {
        "id": "e66cceb8"
      },
      "source": [
        "## Part C: Troubleshooting Practice (10 minutes)"
      ]
    },
    {
      "cell_type": "code",
      "execution_count": null,
      "id": "5a4367da",
      "metadata": {
        "id": "5a4367da"
      },
      "outputs": [],
      "source": [
        "# Introduce one error, run the cell, read the error, and fix it. Then describe what happened.\n",
        "\n",
        "# Example: print('Hello policy world!'\n",
        "\n",
        "# Fix below:\n",
        "print('Hello policy world!')"
      ]
    },
    {
      "cell_type": "markdown",
      "id": "32a99a55",
      "metadata": {
        "id": "32a99a55"
      },
      "source": [
        "🚀 *Stretch Corner:* Copy an error message and explain which line failed and why. Show a corrected version."
      ]
    },
    {
      "cell_type": "markdown",
      "id": "b8bbfbd2",
      "metadata": {
        "id": "b8bbfbd2"
      },
      "source": [
        "## Part D: Code Reading Practice (10 minutes)"
      ]
    },
    {
      "cell_type": "code",
      "execution_count": null,
      "id": "c118f97d",
      "metadata": {
        "id": "c118f97d"
      },
      "outputs": [],
      "source": [
        "# Example 1\n",
        "for city in [\"Paris\", \"Nairobi\", \"Tokyo\"]:\n",
        "    print(\"My favorite city is\", city)\n",
        "# 👉 In English: This code ..."
      ]
    },
    {
      "cell_type": "code",
      "execution_count": null,
      "id": "aaaef06a",
      "metadata": {
        "id": "aaaef06a"
      },
      "outputs": [],
      "source": [
        "# Example 2\n",
        "def add_one(x):\n",
        "    return x + 1\n",
        "\n",
        "print(add_one(2))\n",
        "# 👉 In English: This function ..."
      ]
    },
    {
      "cell_type": "code",
      "execution_count": null,
      "id": "31a2ddf8",
      "metadata": {
        "id": "31a2ddf8"
      },
      "outputs": [],
      "source": [
        "# Example 3\n",
        "for i, issue in enumerate([\"climate\", \"education\", \"healthcare\"], start=1):\n",
        "    print(i, issue)\n",
        "# 👉 In English: This loop ..."
      ]
    },
    {
      "cell_type": "markdown",
      "id": "671e384b",
      "metadata": {
        "id": "671e384b"
      },
      "source": [
        "## Part E: Policy Application (20 minutes)"
      ]
    },
    {
      "cell_type": "markdown",
      "id": "e07ba0fa",
      "metadata": {
        "id": "e07ba0fa"
      },
      "source": [
        "Pick **one of six mini-projects**. Write and run the code, then add 1–2 sentences explaining what it shows.  \n",
        "\n",
        "1. **Population Growth** – Calculate growth % and classify as low/medium/high.  \n",
        "2. **Policy Priorities** – Rank and score issues by urgency.  \n",
        "3. **Budget Allocation** – Divide a budget across policy areas and print shares in $ and %.  \n",
        "4. **Election Simulation** – Use if/else logic to simulate vote outcomes by turnout.  \n",
        "5. **Climate Tracker** – Track temperature changes and flag thresholds.  \n",
        "6. **Your Own Twist** – Create a short script tied to a policy issue you care about.  \n",
        "\n",
        "🚀 Stretch Corner: Wrap your logic in a function so you can reuse it with different numbers/issues.\n"
      ]
    },
    {
      "cell_type": "markdown",
      "id": "1bbe2c38",
      "metadata": {
        "id": "1bbe2c38"
      },
      "source": [
        "### Scaffolds (optional)"
      ]
    },
    {
      "cell_type": "code",
      "execution_count": null,
      "id": "3c0c9260",
      "metadata": {
        "id": "3c0c9260"
      },
      "outputs": [],
      "source": [
        "# 1) Population Growth scaffold\n",
        "population_2020 = 50_000_000\n",
        "population_2025 = 52_000_000\n",
        "\n",
        "growth = (population_2025 - population_2020) / population_2020 * 100\n",
        "if growth < 5:\n",
        "    label = 'Low growth'\n",
        "elif growth < 15:\n",
        "    label = 'Medium growth'\n",
        "else:\n",
        "    label = 'High growth'\n",
        "print(label + ':', round(growth, 2), '%')"
      ]
    },
    {
      "cell_type": "code",
      "execution_count": null,
      "id": "f3ce00c0",
      "metadata": {
        "id": "f3ce00c0"
      },
      "outputs": [],
      "source": [
        "# 2) Policy Priorities scaffold\n",
        "issues = ['climate change', 'inequality', 'immigration', 'education', 'healthcare']\n",
        "for i, issue in enumerate(issues, start=1):\n",
        "    print(i, issue)\n",
        "\n",
        "# Optional scoring\n",
        "# scores = {}\n",
        "# for issue in issues:\n",
        "#     val = int(input(f\"Rate priority for {issue} (1–5): \"))\n",
        "#     scores[issue] = val\n",
        "# for issue, sc in sorted(scores.items(), key=lambda x: x[1], reverse=True):\n",
        "#     print(issue, sc)"
      ]
    },
    {
      "cell_type": "code",
      "execution_count": null,
      "id": "09c1ab17",
      "metadata": {
        "id": "09c1ab17"
      },
      "outputs": [],
      "source": [
        "# 3) Budget Allocation scaffold\n",
        "budget_total = 100.0\n",
        "alloc_pct = {'education': 40, 'healthcare': 30, 'housing': 15, 'climate': 15}\n",
        "alloc_dollars = {k: round(v/100 * budget_total, 2) for k, v in alloc_pct.items()}\n",
        "print('Percentages:', alloc_pct)\n",
        "print('Dollars:', alloc_dollars)"
      ]
    },
    {
      "cell_type": "code",
      "execution_count": null,
      "id": "43b78105",
      "metadata": {
        "id": "43b78105"
      },
      "outputs": [],
      "source": [
        "# 4) Election Simulation scaffold\n",
        "turnout = 58  # percent\n",
        "if turnout < 50:\n",
        "    print('Outcome: Low-turnout scenario – incumbent advantage')\n",
        "elif turnout <= 65:\n",
        "    print('Outcome: Medium-turnout scenario – toss-up')\n",
        "else:\n",
        "    print('Outcome: High-turnout scenario – challenger advantage')"
      ]
    },
    {
      "cell_type": "code",
      "execution_count": null,
      "id": "6b156744",
      "metadata": {
        "id": "6b156744"
      },
      "outputs": [],
      "source": [
        "# 5) Climate Tracker scaffold\n",
        "temps = [0.9, 1.1, 1.4, 1.7, 1.6]  # degrees above baseline\n",
        "for t in temps:\n",
        "    if t >= 1.5:\n",
        "        print(t, '→ threshold exceeded')\n",
        "    else:\n",
        "        print(t, '→ below threshold')"
      ]
    },
    {
      "cell_type": "code",
      "execution_count": null,
      "id": "d13fa523",
      "metadata": {
        "id": "d13fa523"
      },
      "outputs": [],
      "source": [
        "# 6) Your Own Twist\n",
        "# Write a 5–10 line script that connects a personal/policy interest to\n",
        "# variables, lists, conditionals, or loops."
      ]
    },
    {
      "cell_type": "markdown",
      "id": "f3f63f9c",
      "metadata": {
        "id": "f3f63f9c"
      },
      "source": [
        "## Part F: ⚡ Lightning Demo — Teach-Out Instructions (Last ~40 min)"
      ]
    },
    {
      "cell_type": "markdown",
      "id": "afe42e9e",
      "metadata": {
        "id": "afe42e9e"
      },
      "source": [
        "### What is a Lightning Demo?\n",
        "A rapid-fire mini-presentation: **2 minutes per person**. Show off **one highlight** from your work, not the whole notebook.\n",
        "\n",
        "### Demo Format (2 minutes)\n",
        "1. **Introduce your highlight (20 sec)**  \n",
        "   - Names + which policy option.  \n",
        "   - State your *unique angle*.  \n",
        "2. **Walk through your code (60–80 sec)**  \n",
        "   - Share only the key cell(s).  \n",
        "   - Explain in plain English.  \n",
        "   - Run it so we see the output.  \n",
        "3. **Reflect (20 sec)**  \n",
        "   - Share a challenge, insight, or stretch attempt.  \n",
        "4. **Pass the mic (10 sec)**  \n",
        "   - End with: *“Any questions about our code?”*\n",
        "\n",
        "### Unique Angles to Choose From\n",
        "- Core logic (basic version).  \n",
        "- Stretch upgrade (function, scoring, advanced tweak).  \n",
        "- Error fix (show bug + solution).  \n",
        "- Policy personalization (adapted to your issue).  \n",
        "- Code clarity (comments, naming, readability).  \n",
        "\n",
        "👉 If another group already showed your angle, pivot to a different one.\n",
        "\n",
        "### Flow for the Day\n",
        "- Groups present **clustered by option**.  \n",
        "- After each cluster, the instructor summarizes similarities/differences and highlights clever approaches.  \n",
        "- 12 students × 2 minutes = ~24 minutes, plus transitions = ~40 minutes total.\n",
        "\n",
        "**Goal:** Explain one idea clearly and concisely — practicing both coding and professional communication.  \n"
      ]
    }
  ],
  "metadata": {
    "colab": {
      "provenance": [],
      "include_colab_link": true
    }
  },
  "nbformat": 4,
  "nbformat_minor": 5
}