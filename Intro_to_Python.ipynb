{
  "nbformat": 4,
  "nbformat_minor": 0,
  "metadata": {
    "colab": {
      "provenance": [],
      "authorship_tag": "ABX9TyOyxPZWD61sV5Pk0hDKmKw4",
      "include_colab_link": true
    },
    "kernelspec": {
      "name": "python3",
      "display_name": "Python 3"
    },
    "language_info": {
      "name": "python"
    }
  },
  "cells": [
    {
      "cell_type": "markdown",
      "metadata": {
        "id": "view-in-github",
        "colab_type": "text"
      },
      "source": [
        "<a href=\"https://colab.research.google.com/github/rskrisel/intro_to_python_workshop/blob/main/Intro_to_Python.ipynb\" target=\"_parent\"><img src=\"https://colab.research.google.com/assets/colab-badge.svg\" alt=\"Open In Colab\"/></a>"
      ]
    },
    {
      "cell_type": "markdown",
      "source": [
        "# Introduction to Python\n",
        "\n",
        "Python is a general-purpose programming language popular among data scientists who work with text data. Learning Python fundamentals is a gateway to analyzing data, creating visualizations, composing interactive websites, scraping the internet, and conducting text analysis. This workshop is an introduction to core programming concepts such as data types, variables, and functions. We will then learn about basic control flow by writing small programs with loops and conditional statements. We will also learn to problem solve, and practice searching for answers and debugging scripts. The workshop wraps up by exposing participants to intermediate tools for further exploration."
      ],
      "metadata": {
        "id": "zul9LPcPaa2f"
      }
    },
    {
      "cell_type": "markdown",
      "source": [
        "## Why Python?\n",
        "\n",
        "- Python works on different platforms (Windows, Mac, Linux, Raspberry Pi, etc).\n",
        "- Python has a simple syntax similar to the English language.\n",
        "- Python has syntax that allows developers to write programs with fewer lines than some other programming languages.\n",
        "- Python runs on an interpreter system, meaning that code can be executed as soon as it is written. This means that prototyping can be very quick.\n",
        "- Python can be treated in a procedural way, an object-oriented way or a functional way.\n",
        "\n",
        "\n",
        "\n",
        "\n",
        "\n",
        "\n"
      ],
      "metadata": {
        "id": "2jySqGhtekEw"
      }
    },
    {
      "cell_type": "markdown",
      "source": [
        "## Python Syntax compared to other programming languages\n",
        "- Python was designed for readability, and has some similarities to the English language with influence from mathematics.\n",
        "- Python uses new lines to complete a command, as opposed to other programming languages which often use semicolons or parentheses.\n",
        "- Python relies on indentation, using whitespace, to define scope; such as the scope of loops, functions and classes. Other programming languages often use curly-brackets for this purpose."
      ],
      "metadata": {
        "id": "8rBfTry2fQH6"
      }
    },
    {
      "cell_type": "markdown",
      "source": [
        "## What is Google Colab?\n",
        "[Google Colab](https://colab.research.google.com/?utm_source=scs-index#scrollTo=qL_eyskFWx18) is a Python environment hosted in the cloud. It is based on the [Jupyter Notebook](https://jupyter.org) interface, designed to allow users to write and execute code, view output, and create visualizations.\n",
        "\n",
        "Since they are hosted in the cloud, Google Colab Notebooks are easy to share and invite others to collaborate."
      ],
      "metadata": {
        "id": "6djCRXYqbP-o"
      }
    },
    {
      "cell_type": "markdown",
      "source": [
        "## Executing a Python command in a Google Colab Notebook\n",
        "\n",
        "When you want to run a new command in your Google Colab Notebook, you will first click the \"+ Code\" button in the top left corner. This will initiate a new code block. Type your script in the code block, then click on the arrow symbol on the right of the code block (you can also use the keyboard shortcut shift + return).\n",
        "\n",
        "Let's try our first command:"
      ],
      "metadata": {
        "id": "Wg-xKDWNf9ce"
      }
    },
    {
      "cell_type": "code",
      "source": [
        "print(\"Hello, World!\")\n"
      ],
      "metadata": {
        "colab": {
          "base_uri": "https://localhost:8080/"
        },
        "id": "YR-k-qqAaTiL",
        "outputId": "05961461-3f7a-4c40-e3a7-759d5cd72259"
      },
      "execution_count": 1,
      "outputs": [
        {
          "output_type": "stream",
          "name": "stdout",
          "text": [
            "Hello, World!\n"
          ]
        }
      ]
    },
    {
      "cell_type": "markdown",
      "source": [
        "Congrats on running your first Python script!\n",
        "\n",
        "In the command above, we asked Python to display the phrase \"Hello, World!\" using the print function. We will get into what functions are in a moment.  \n",
        "\n",
        "Let's try a little math:"
      ],
      "metadata": {
        "id": "bdctpM5ph2Ow"
      }
    },
    {
      "cell_type": "code",
      "source": [
        "2 + 3"
      ],
      "metadata": {
        "colab": {
          "base_uri": "https://localhost:8080/"
        },
        "id": "DQ9lbRUxaaPs",
        "outputId": "821c52a4-a11e-4ef2-896a-9adac8af7920"
      },
      "execution_count": 2,
      "outputs": [
        {
          "output_type": "execute_result",
          "data": {
            "text/plain": [
              "5"
            ]
          },
          "metadata": {},
          "execution_count": 2
        }
      ]
    },
    {
      "cell_type": "code",
      "source": [
        "14 - 10"
      ],
      "metadata": {
        "colab": {
          "base_uri": "https://localhost:8080/"
        },
        "id": "TcKlDRj-jQxH",
        "outputId": "ecb97c2b-72dc-4a32-daeb-a63f47452909"
      },
      "execution_count": 3,
      "outputs": [
        {
          "output_type": "execute_result",
          "data": {
            "text/plain": [
              "4"
            ]
          },
          "metadata": {},
          "execution_count": 3
        }
      ]
    },
    {
      "cell_type": "code",
      "source": [
        "10 * 10"
      ],
      "metadata": {
        "colab": {
          "base_uri": "https://localhost:8080/"
        },
        "id": "csKk_0aSjU7b",
        "outputId": "1ffb041f-0858-4575-e488-99d7193c9317"
      },
      "execution_count": 4,
      "outputs": [
        {
          "output_type": "execute_result",
          "data": {
            "text/plain": [
              "100"
            ]
          },
          "metadata": {},
          "execution_count": 4
        }
      ]
    },
    {
      "cell_type": "code",
      "source": [
        "6 / 3"
      ],
      "metadata": {
        "colab": {
          "base_uri": "https://localhost:8080/"
        },
        "id": "FjC7icPwjYDH",
        "outputId": "d3d18d3e-3a61-4859-9b5e-632657256faa"
      },
      "execution_count": 5,
      "outputs": [
        {
          "output_type": "execute_result",
          "data": {
            "text/plain": [
              "2.0"
            ]
          },
          "metadata": {},
          "execution_count": 5
        }
      ]
    },
    {
      "cell_type": "code",
      "source": [
        "3**2"
      ],
      "metadata": {
        "colab": {
          "base_uri": "https://localhost:8080/"
        },
        "id": "HS42wARijoyH",
        "outputId": "7443fddc-02d9-49c0-bb05-653d1d19d930"
      },
      "execution_count": 7,
      "outputs": [
        {
          "output_type": "execute_result",
          "data": {
            "text/plain": [
              "9"
            ]
          },
          "metadata": {},
          "execution_count": 7
        }
      ]
    },
    {
      "cell_type": "code",
      "source": [
        "21 % 4"
      ],
      "metadata": {
        "colab": {
          "base_uri": "https://localhost:8080/"
        },
        "id": "2Lrpx-_ijcKE",
        "outputId": "71b8a8bf-743a-4317-a72e-488309897813"
      },
      "execution_count": 6,
      "outputs": [
        {
          "output_type": "execute_result",
          "data": {
            "text/plain": [
              "1"
            ]
          },
          "metadata": {},
          "execution_count": 6
        }
      ]
    },
    {
      "cell_type": "markdown",
      "source": [
        "The first four operations above are addition, subtraction, multiplication, and division, respectively. The exponent operator is two asterisks (**). The last operation is modulo, or mod, which returns the remainder after division."
      ],
      "metadata": {
        "id": "_i9f0jCxjhbR"
      }
    },
    {
      "cell_type": "markdown",
      "source": [
        "## Python Indentation\n",
        "Indentation refers to the spaces at the beginning of a code line.\n",
        "\n",
        "Where in other programming languages the indentation in code is for readability only, the indentation in Python is very important.\n",
        "\n",
        "Python uses indentation to indicate a block of code.\n",
        "\n",
        "For example:"
      ],
      "metadata": {
        "id": "g28E90NzkW1o"
      }
    },
    {
      "cell_type": "code",
      "source": [
        "if 5 > 2:\n",
        "  print(\"Five is greater than two!\")"
      ],
      "metadata": {
        "colab": {
          "base_uri": "https://localhost:8080/"
        },
        "id": "yJaKr452jgIb",
        "outputId": "2b2b5d0d-c267-4b80-8b16-d54a354f8504"
      },
      "execution_count": 8,
      "outputs": [
        {
          "output_type": "stream",
          "name": "stdout",
          "text": [
            "Five is greater than two!\n"
          ]
        }
      ]
    },
    {
      "cell_type": "code",
      "source": [
        "if 5 > 2:\n",
        "print(\"Five is greater than two!\")"
      ],
      "metadata": {
        "colab": {
          "base_uri": "https://localhost:8080/",
          "height": 131
        },
        "id": "4JnGMsHRkkBO",
        "outputId": "e6385742-d097-44b4-9175-7192a79f1771"
      },
      "execution_count": 9,
      "outputs": [
        {
          "output_type": "error",
          "ename": "IndentationError",
          "evalue": "ignored",
          "traceback": [
            "\u001b[0;36m  File \u001b[0;32m\"<ipython-input-9-a314491c53bb>\"\u001b[0;36m, line \u001b[0;32m2\u001b[0m\n\u001b[0;31m    print(\"Five is greater than two!\")\u001b[0m\n\u001b[0m    ^\u001b[0m\n\u001b[0;31mIndentationError\u001b[0m\u001b[0;31m:\u001b[0m expected an indented block after 'if' statement on line 1\n"
          ]
        }
      ]
    },
    {
      "cell_type": "markdown",
      "source": [
        "Notice how Python lets you know what type of error occurred. You can use this error message to troubleshoot your code!"
      ],
      "metadata": {
        "id": "PFkNWiyxkqW0"
      }
    },
    {
      "cell_type": "markdown",
      "source": [
        "## Variables\n",
        "\n",
        "Variables are one of the fundamental building blocks of Python. A variable is like a tiny container where you store values and data, such as filenames, words, numbers, collections of words and numbers, and more.\n",
        "\n",
        "### Assigning Variables\n",
        "The variable name will point to a value that you “assign” it. You might think about variable assignment like putting a value “into” the variable, as if the variable is a little box."
      ],
      "metadata": {
        "id": "MJJe__79lefp"
      }
    },
    {
      "cell_type": "code",
      "source": [
        "new_variable = 100\n",
        "print(new_variable)"
      ],
      "metadata": {
        "colab": {
          "base_uri": "https://localhost:8080/"
        },
        "id": "p1_tN-Fkkl9c",
        "outputId": "98026022-ad1b-4985-8ad2-ca73652856c1"
      },
      "execution_count": 10,
      "outputs": [
        {
          "output_type": "stream",
          "name": "stdout",
          "text": [
            "100\n"
          ]
        }
      ]
    },
    {
      "cell_type": "markdown",
      "source": [
        "### Jupyter Display vs Print()\n",
        "We can check to see what’s “inside” these variables by running a cell with the variable’s name. This is one of the handiest features of a Jupyter notebook. Outside the Jupyter environment, you would need to use the print() function to display the variable."
      ],
      "metadata": {
        "id": "Cr5LwSzrmcjs"
      }
    },
    {
      "cell_type": "code",
      "source": [
        "new_variable"
      ],
      "metadata": {
        "colab": {
          "base_uri": "https://localhost:8080/"
        },
        "id": "nXxd0YNomXtX",
        "outputId": "f8b0eb0b-23d3-4203-baa6-e4d42f964b6b"
      },
      "execution_count": 12,
      "outputs": [
        {
          "output_type": "execute_result",
          "data": {
            "text/plain": [
              "100"
            ]
          },
          "metadata": {},
          "execution_count": 12
        }
      ]
    },
    {
      "cell_type": "markdown",
      "source": [
        "You assign variables with an equals = sign. In Python, a single equals sign = is the “assignment operator.” A double equals sign == is the “real” equals sign."
      ],
      "metadata": {
        "id": "BQ6oQ9LOnJNL"
      }
    },
    {
      "cell_type": "code",
      "source": [
        "2 * 2 == 4"
      ],
      "metadata": {
        "colab": {
          "base_uri": "https://localhost:8080/"
        },
        "id": "YoLOPzBUl78S",
        "outputId": "ea2facf9-42a3-47d6-e82f-3e485eeede04"
      },
      "execution_count": 11,
      "outputs": [
        {
          "output_type": "execute_result",
          "data": {
            "text/plain": [
              "True"
            ]
          },
          "metadata": {},
          "execution_count": 11
        }
      ]
    },
    {
      "cell_type": "markdown",
      "source": [
        "You can also store text in a variable:"
      ],
      "metadata": {
        "id": "vZPGMtjynOPK"
      }
    },
    {
      "cell_type": "code",
      "source": [
        "different_variable = \"I'm another variable!\"\n",
        "different_variable"
      ],
      "metadata": {
        "colab": {
          "base_uri": "https://localhost:8080/",
          "height": 35
        },
        "id": "kWqVgi8Bmq3D",
        "outputId": "8f80b4c0-37ac-4f90-86e5-df194b171130"
      },
      "execution_count": 13,
      "outputs": [
        {
          "output_type": "execute_result",
          "data": {
            "text/plain": [
              "\"I'm another variable!\""
            ],
            "application/vnd.google.colaboratory.intrinsic+json": {
              "type": "string"
            }
          },
          "metadata": {},
          "execution_count": 13
        }
      ]
    },
    {
      "cell_type": "code",
      "source": [
        "x = \"Hello\"\n",
        "y= \" and goodbye\"\n",
        "\n",
        "x + y"
      ],
      "metadata": {
        "colab": {
          "base_uri": "https://localhost:8080/",
          "height": 35
        },
        "id": "HU9F-q503Qi2",
        "outputId": "992e223c-47cc-42fb-ef03-a109d7b7ba67"
      },
      "execution_count": 1,
      "outputs": [
        {
          "output_type": "execute_result",
          "data": {
            "text/plain": [
              "'Hello and goodbye'"
            ],
            "application/vnd.google.colaboratory.intrinsic+json": {
              "type": "string"
            }
          },
          "metadata": {},
          "execution_count": 1
        }
      ]
    },
    {
      "cell_type": "markdown",
      "source": [
        "### Variable Names\n",
        "\n",
        "Variable names can be as long or as short as you want, and they can include:\n",
        "- upper and lower-case letters (A-Z), variable names are case sensitive\n",
        "- digits (0-9)\n",
        "- underscores (_)\n",
        "\n",
        "However, variable names cannot include:\n",
        "- other punctuation (-.!?@)\n",
        "- spaces ( )\n",
        "- a reserved Python word (print, True, list, etc...)\n",
        "\n",
        "### Striving for Good Variable Names\n",
        "As you start to code, you will almost certainly be tempted to use extremely short variables names like f. You’ll promise yourself that you’ll definitely remember what f means. But you probably won’t.\n",
        "\n",
        "So, resist the temptation of bad variable names! Clear and precisely-named variables will:\n",
        "- make your code more readable (both to yourself and others)\n",
        "- reinforce your understanding of Python and what’s happening in the code\n",
        "- clarify and strengthen your thinking\n",
        "\n"
      ],
      "metadata": {
        "id": "EwF2SrLlncbo"
      }
    },
    {
      "cell_type": "markdown",
      "source": [
        "## Data Types\n",
        "\n",
        "There are four essential kinds of Python data with different powers and capabilities:\n",
        "- Strings (Text & Numbers in quotation marks)\n",
        "- Integers (Whole Numbers)\n",
        "- Floats (Decimal Numbers)\n",
        "- Booleans (True/False)"
      ],
      "metadata": {
        "id": "afjslLu-pCcu"
      }
    },
    {
      "cell_type": "markdown",
      "source": [
        "You can check the data type of any value by using the function type():"
      ],
      "metadata": {
        "id": "TTUt2UTtqEJ-"
      }
    },
    {
      "cell_type": "code",
      "source": [
        "type(\"Hello, World!\")"
      ],
      "metadata": {
        "colab": {
          "base_uri": "https://localhost:8080/"
        },
        "id": "fQvsGMz3nTvk",
        "outputId": "a2db1773-974d-4dbf-cd00-c4e49d9a033c"
      },
      "execution_count": 14,
      "outputs": [
        {
          "output_type": "execute_result",
          "data": {
            "text/plain": [
              "str"
            ]
          },
          "metadata": {},
          "execution_count": 14
        }
      ]
    },
    {
      "cell_type": "code",
      "source": [
        "type(55)"
      ],
      "metadata": {
        "colab": {
          "base_uri": "https://localhost:8080/"
        },
        "id": "j_Gw4TH0qOX8",
        "outputId": "9316b2d0-bad9-4621-b89e-310fc6863afa"
      },
      "execution_count": 15,
      "outputs": [
        {
          "output_type": "execute_result",
          "data": {
            "text/plain": [
              "int"
            ]
          },
          "metadata": {},
          "execution_count": 15
        }
      ]
    },
    {
      "cell_type": "code",
      "source": [
        "type(2.5)"
      ],
      "metadata": {
        "colab": {
          "base_uri": "https://localhost:8080/"
        },
        "id": "ibdiPyA-qQM_",
        "outputId": "8250d51c-4ce6-4880-bd53-4d163b61197e"
      },
      "execution_count": 16,
      "outputs": [
        {
          "output_type": "execute_result",
          "data": {
            "text/plain": [
              "float"
            ]
          },
          "metadata": {},
          "execution_count": 16
        }
      ]
    },
    {
      "cell_type": "code",
      "source": [
        "type(True)"
      ],
      "metadata": {
        "colab": {
          "base_uri": "https://localhost:8080/"
        },
        "id": "4e3Fj6Q0qSEE",
        "outputId": "2b5a0fc1-a2ea-4e6f-eb2e-d074705aa3cd"
      },
      "execution_count": 17,
      "outputs": [
        {
          "output_type": "execute_result",
          "data": {
            "text/plain": [
              "bool"
            ]
          },
          "metadata": {},
          "execution_count": 17
        }
      ]
    },
    {
      "cell_type": "code",
      "source": [
        "type(2==5)"
      ],
      "metadata": {
        "colab": {
          "base_uri": "https://localhost:8080/"
        },
        "id": "-7cqNM2qh3yQ",
        "outputId": "97982bc5-2820-4152-a11d-ce2abd3fb005"
      },
      "execution_count": 5,
      "outputs": [
        {
          "output_type": "execute_result",
          "data": {
            "text/plain": [
              "bool"
            ]
          },
          "metadata": {},
          "execution_count": 5
        }
      ]
    },
    {
      "cell_type": "markdown",
      "source": [
        "### Strings\n",
        "A string is a Python data type that is treated like text, even if it contains a number. Strings are always enclosed by either single quotation marks 'this is a string' or double quotation marks \"this is a string\". It doesn’t matter whether you use single or double quotation marks with strings, as long as you use the same kind on either side of the string.\n",
        "\n",
        "\n"
      ],
      "metadata": {
        "id": "UoM4no8MdvZh"
      }
    },
    {
      "cell_type": "code",
      "source": [
        "type('55')"
      ],
      "metadata": {
        "colab": {
          "base_uri": "https://localhost:8080/"
        },
        "id": "cinm2iopqU_a",
        "outputId": "a2ed9187-993d-4022-8a1e-1bba2469f09e"
      },
      "execution_count": 18,
      "outputs": [
        {
          "output_type": "execute_result",
          "data": {
            "text/plain": [
              "str"
            ]
          },
          "metadata": {},
          "execution_count": 18
        }
      ]
    },
    {
      "cell_type": "code",
      "source": [
        "type(\"Strings can contain both letters, numbers (e.g., 5), punctuation, and special characters (e.g., @)\")"
      ],
      "metadata": {
        "colab": {
          "base_uri": "https://localhost:8080/"
        },
        "id": "zxRyJiSiqa0k",
        "outputId": "ba2c64cf-8bdc-4200-9a0e-4fc0ba07eabd"
      },
      "execution_count": 1,
      "outputs": [
        {
          "output_type": "execute_result",
          "data": {
            "text/plain": [
              "str"
            ]
          },
          "metadata": {},
          "execution_count": 1
        }
      ]
    },
    {
      "cell_type": "markdown",
      "source": [
        "### f-Strings\n",
        "A special kind of string that we’re going to use in this class is called an f-string. An f-string, short for formatted string literal, allows you to insert a variable directly into a string. f-strings were introduced with Python version 3.6.\n",
        "\n",
        "An f-string must begin with an f outside the quotation marks. Then, inside the quotation marks, the inserted variable must be placed within curly brackets {}.\n",
        "\n",
        "Let's define a variable first:"
      ],
      "metadata": {
        "id": "ryd5VUPxfQ1C"
      }
    },
    {
      "cell_type": "code",
      "source": [
        "greeting = \"Good morning!\""
      ],
      "metadata": {
        "id": "egEvNls3gW8v"
      },
      "execution_count": 3,
      "outputs": []
    },
    {
      "cell_type": "code",
      "source": [
        "print(f\"At the start of the day people say : \\n\\n'{greeting}'\")"
      ],
      "metadata": {
        "colab": {
          "base_uri": "https://localhost:8080/"
        },
        "id": "7G4dMFg2gMwx",
        "outputId": "fcaf0602-fdb1-4c2b-a334-09e3a9445564"
      },
      "execution_count": 4,
      "outputs": [
        {
          "output_type": "stream",
          "name": "stdout",
          "text": [
            "At the start of the day people say : \n",
            "\n",
            "'Good morning!'\n"
          ]
        }
      ]
    },
    {
      "cell_type": "markdown",
      "source": [
        "## Let's pratice!\n",
        "\n",
        "Work with your neighbor to assign values to the following variables. Add a new variable called favorite_movie and update the f-string to include a new sentence about your partner’s favorite movie."
      ],
      "metadata": {
        "id": "SJLH-cBxk-xO"
      }
    },
    {
      "cell_type": "code",
      "source": [
        "name = #Your code here\n",
        "age = #Your code here\n",
        "home_town = #Your code here\n",
        "favorite_food = #Your code here\n",
        "dog_years_age =#Your code here * 7.5\n",
        "student = False #boolean\n",
        "#favorite_movie ="
      ],
      "metadata": {
        "colab": {
          "base_uri": "https://localhost:8080/",
          "height": 131
        },
        "id": "c7z9Y45ilV7_",
        "outputId": "1052dbae-a9da-4048-ba6b-f35d5c7e6cde"
      },
      "execution_count": 6,
      "outputs": [
        {
          "output_type": "error",
          "ename": "SyntaxError",
          "evalue": "ignored",
          "traceback": [
            "\u001b[0;36m  File \u001b[0;32m\"<ipython-input-6-24f8c797a158>\"\u001b[0;36m, line \u001b[0;32m1\u001b[0m\n\u001b[0;31m    name = #Your code here\u001b[0m\n\u001b[0m           ^\u001b[0m\n\u001b[0;31mSyntaxError\u001b[0m\u001b[0;31m:\u001b[0m invalid syntax\n"
          ]
        }
      ]
    },
    {
      "cell_type": "code",
      "source": [
        "print(f'✨This is...{name}!✨')\n",
        "\n",
        "print(f\"\"\"{name} likes {favorite_food} and once lived in {place}.\n",
        "{name} is {age} years old, which is {dog_years_age} in dog years.\n",
        "The statement \"{name} is a student\" is {student}.\n",
        "# YOUR NEW SENTENCE HERE')"
      ],
      "metadata": {
        "id": "qxNQTwQ4lea3"
      },
      "execution_count": null,
      "outputs": []
    },
    {
      "cell_type": "markdown",
      "source": [
        "## Comments\n",
        "\n",
        "Notice how in the exercise above some of the code begins with \"#\"? This is what is called a comment and Python knows to ignore what comes after the #.\n",
        "\n",
        "- Comments can be used to explain Python code.\n",
        "- Comments can be used to make the code more readable.\n",
        "- Comments can be used to prevent execution when testing code.\n",
        "\n"
      ],
      "metadata": {
        "id": "WRQim5SzmkNF"
      }
    },
    {
      "cell_type": "code",
      "source": [
        "#This is a comment\n",
        "print(\"Hello, World!\")"
      ],
      "metadata": {
        "colab": {
          "base_uri": "https://localhost:8080/"
        },
        "id": "v-K23omvm_t7",
        "outputId": "0636278a-90b3-4ce0-e171-19c3f8700fb2"
      },
      "execution_count": 7,
      "outputs": [
        {
          "output_type": "stream",
          "name": "stdout",
          "text": [
            "Hello, World!\n"
          ]
        }
      ]
    },
    {
      "cell_type": "code",
      "source": [
        "print(\"Hello, World!\") #Comments can be placed at the end of a line"
      ],
      "metadata": {
        "colab": {
          "base_uri": "https://localhost:8080/"
        },
        "id": "5kePYjUNnEEY",
        "outputId": "83b50a4d-b85c-4cb9-d4e9-0d72656b6fea"
      },
      "execution_count": 8,
      "outputs": [
        {
          "output_type": "stream",
          "name": "stdout",
          "text": [
            "Hello, World!\n"
          ]
        }
      ]
    },
    {
      "cell_type": "code",
      "source": [
        "#A comment does not have to be text that explains the code, it can also be used to prevent Python from executing code:\n",
        "\n",
        "#print(\"Hello, World!\")\n",
        "print(\"Cheers, Mate!\")"
      ],
      "metadata": {
        "colab": {
          "base_uri": "https://localhost:8080/"
        },
        "id": "SPUGYJi2nL3C",
        "outputId": "79681645-f122-44fa-e8c6-d531593c709e"
      },
      "execution_count": 9,
      "outputs": [
        {
          "output_type": "stream",
          "name": "stdout",
          "text": [
            "Cheers, Mate!\n"
          ]
        }
      ]
    },
    {
      "cell_type": "markdown",
      "source": [
        "## Functions\n",
        "\n",
        "Broadly defined, a function is a block of reusable code that performs a specific task. Often, a function takes an input, transforms the input, and returns an output. Imagine, for instance, a penny press at a popular tourist attraction that accepts a penny (the input), flattens and embosses the penny (the transformation), and spits out an elongated coin with a new design, perhaps an image of the Statue of Liberty (the output)! Or, for those of you who remember high school algebra, the function f(x) = x + 1 means that given an input x, the function will return x + 1. For example, if I substituted 2 for x, my function would read f(2) = 2 + 1, or f(2) = 3. In this case, my input was 2, the transformation was to add 1, and the output was 3. These are the basic concepts that make up a function in Python as well!\n",
        "\n",
        "### Writing Your First Function\n",
        "Let's write a Python function that prints the output from our algebraic equation f(x) = x + 1 above. Try running the code in the editor below.\n",
        "\n"
      ],
      "metadata": {
        "id": "Oy4zGxslrtKE"
      }
    },
    {
      "cell_type": "code",
      "source": [
        "def add_one(x):\n",
        "  print(x + 1)\n",
        "add_one(2)"
      ],
      "metadata": {
        "colab": {
          "base_uri": "https://localhost:8080/"
        },
        "id": "cIlM5pJqscgP",
        "outputId": "49d5e56d-64ae-4959-c69b-3b6129fa3c13"
      },
      "execution_count": 10,
      "outputs": [
        {
          "output_type": "stream",
          "name": "stdout",
          "text": [
            "3\n"
          ]
        }
      ]
    },
    {
      "cell_type": "markdown",
      "source": [
        "As output, you should get the number 3. Let's break this code down to understand how it works.\n",
        "\n",
        "First, we create a function:\n",
        "\n",
        "```python\n",
        "def add_one(x):\n",
        "  print(x + 1)\n",
        "```\n",
        "\n",
        "When creating a function, we begin by writing def before our chosen function name. The function name is typically descriptive in nature. We named the above function add_one following Python naming conventions, as the function will be ADDING 1 to our inputted integer. We always need a closed parentheses () after our function name, which in this case, takes one argument (or input), which we will temporarily call x (we can name this parameter whatever we want, as long as we use the same name within the body of the function). Then, we end the first line with a :, return, and indent by 2 spaces to write code describing what this function should \"do.\" In this case, we want the function to print the result of adding 1 to our input, or x. Remember, we need parentheses every time we print something!\n",
        "\n",
        "Next, if we want to call our function, we will need to actually pass in an argument to see a result. To do so, we write the following line of code below our function (making sure this next line isn't indented):\n",
        "\n",
        "```python\n",
        "add_one(2)\n",
        "```\n",
        "\n",
        "Here, we are telling the computer to pass in 2 to see if we get our expected output of 3.\n",
        "\n",
        "Creating a whole function just to add \"one\" to something may seem unnecessarily complicated, but once you have learned the basics of function-writing, the possibilities are powerful and limitless!\n",
        "\n",
        "### Writing your Second Function\n",
        "\n",
        "Our functions do not have to be \"mathematical\" in nature. Let's say that I wanted to say a friendly hello, but didn't want to type out a long sentence every time I wanted to do so. We could automate this process with a function. In the code editor below, write the following lines:\n",
        "\n",
        "```python\n",
        "def greet():\n",
        "    print(\"Hello! How are you today?\")\n",
        "greet()\n",
        "```\n",
        "\n",
        "First we define our greet() function, and add a line to print to the screen. Lastly, we call the function so it will run. You might have noticed that this time, we didn't pass in an argument! Note that a function doesn't have to take an input (or argument), or it can take several arguments! There is a lot of flexibility involved in writing your own functions, which you can craft carefully to do exactly what you want them to! Read more about some of the many things you can do with functions on the online web tutorial [W3Schools](https://www.w3schools.com/python/python_functions.asp).\n"
      ],
      "metadata": {
        "id": "8OOtTcNCtknQ"
      }
    },
    {
      "cell_type": "code",
      "source": [
        "def greet():\n",
        "    print(\"Hello! How are you today?\")\n",
        "greet()"
      ],
      "metadata": {
        "colab": {
          "base_uri": "https://localhost:8080/"
        },
        "id": "M3t3dFvAvF_Y",
        "outputId": "5cc0ae36-10d0-4676-de9b-4f58587d963c"
      },
      "execution_count": 11,
      "outputs": [
        {
          "output_type": "stream",
          "name": "stdout",
          "text": [
            "Hello! How are you today?\n"
          ]
        }
      ]
    },
    {
      "cell_type": "markdown",
      "source": [
        "### Challenge!\n",
        "\n",
        "How could we change our greeting function to say hello to a specific person? Hint: your print statement will need to use string interpolation. We did this in \"Variables\" when we assigned x = \"hello\" and y =\" and goodbye\", which x + y yielded the result \"hello and goodbye\". Give it a shot in the editor below."
      ],
      "metadata": {
        "id": "H_ZHAj-625OC"
      }
    },
    {
      "cell_type": "code",
      "source": [
        "#your code here"
      ],
      "metadata": {
        "id": "9zcpooo34GWX"
      },
      "execution_count": null,
      "outputs": []
    },
    {
      "cell_type": "markdown",
      "source": [
        "## Lists\n",
        "\n",
        "One of the most common Python data collections is a list. Lists are a collection of values rather than individual variables.\n",
        "\n",
        "For example, we can create a list of major cities:\n",
        "\n"
      ],
      "metadata": {
        "id": "WpPK4qV358TO"
      }
    },
    {
      "cell_type": "code",
      "source": [
        "cities = ['Paris', 'New York', 'London', 'Tokyo', 'Istanbul']"
      ],
      "metadata": {
        "id": "72gOWsyx6i5r"
      },
      "execution_count": 56,
      "outputs": []
    },
    {
      "cell_type": "code",
      "source": [
        "type(cities)"
      ],
      "metadata": {
        "colab": {
          "base_uri": "https://localhost:8080/"
        },
        "id": "lCcbwkhy6whM",
        "outputId": "f7052001-0ef9-43ae-931e-1e66224aff1a"
      },
      "execution_count": 57,
      "outputs": [
        {
          "output_type": "execute_result",
          "data": {
            "text/plain": [
              "list"
            ]
          },
          "metadata": {},
          "execution_count": 57
        }
      ]
    },
    {
      "cell_type": "code",
      "source": [
        "cities"
      ],
      "metadata": {
        "colab": {
          "base_uri": "https://localhost:8080/"
        },
        "id": "mK5L7HsR7pQE",
        "outputId": "db8ec147-02b4-4375-87d4-5e7830ccc3e5"
      },
      "execution_count": 58,
      "outputs": [
        {
          "output_type": "execute_result",
          "data": {
            "text/plain": [
              "['Paris', 'New York', 'London', 'Tokyo', 'Istanbul']"
            ]
          },
          "metadata": {},
          "execution_count": 58
        }
      ]
    },
    {
      "cell_type": "markdown",
      "source": [
        "A list is always enclosed by square brackets [] and accepts items in a row separated by commas (,). A list can contain any combination of Python data types."
      ],
      "metadata": {
        "id": "Zsm79HlC62he"
      }
    },
    {
      "cell_type": "code",
      "source": [
        "random_list = ['Python', 3, 10.5, True]\n",
        "type(random_list)"
      ],
      "metadata": {
        "colab": {
          "base_uri": "https://localhost:8080/"
        },
        "id": "Q90Do8ap6857",
        "outputId": "0775d876-0b21-43bb-ac4f-7e0b1b3f8803"
      },
      "execution_count": 59,
      "outputs": [
        {
          "output_type": "execute_result",
          "data": {
            "text/plain": [
              "list"
            ]
          },
          "metadata": {},
          "execution_count": 59
        }
      ]
    },
    {
      "cell_type": "code",
      "source": [
        "random_list"
      ],
      "metadata": {
        "colab": {
          "base_uri": "https://localhost:8080/"
        },
        "id": "yI3c5YEc7rz6",
        "outputId": "8a87688a-1ced-4f78-b88d-2ea9c108ca03"
      },
      "execution_count": 60,
      "outputs": [
        {
          "output_type": "execute_result",
          "data": {
            "text/plain": [
              "['Python', 3, 10.5, True]"
            ]
          },
          "metadata": {},
          "execution_count": 60
        }
      ]
    },
    {
      "cell_type": "markdown",
      "source": [
        "### Indexing Lists\n",
        "\n",
        "A useful property of a list is the list index. This allows you to pick out an item from within the list by a number starting from zero:\n",
        "\n",
        "For instance, add the following lines of code to the program below:\n",
        "\n",
        "```python\n",
        "print(cities[0])\n",
        "print(cities[4])\n",
        "```\n",
        "\n",
        "What do you notice?"
      ],
      "metadata": {
        "id": "BiW2yqo5715v"
      }
    },
    {
      "cell_type": "code",
      "source": [
        "cities[0]"
      ],
      "metadata": {
        "colab": {
          "base_uri": "https://localhost:8080/",
          "height": 35
        },
        "id": "LUPM7sGC8FC4",
        "outputId": "7c68546a-2d1c-4208-dd1b-cbbd8070a26a"
      },
      "execution_count": 61,
      "outputs": [
        {
          "output_type": "execute_result",
          "data": {
            "text/plain": [
              "'Paris'"
            ],
            "application/vnd.google.colaboratory.intrinsic+json": {
              "type": "string"
            }
          },
          "metadata": {},
          "execution_count": 61
        }
      ]
    },
    {
      "cell_type": "code",
      "source": [
        "cities[4]"
      ],
      "metadata": {
        "colab": {
          "base_uri": "https://localhost:8080/",
          "height": 35
        },
        "id": "RRZBNZ8V8Qcu",
        "outputId": "16b333bd-b8f4-4d64-bef5-eefd5d7a6ea3"
      },
      "execution_count": 62,
      "outputs": [
        {
          "output_type": "execute_result",
          "data": {
            "text/plain": [
              "'Istanbul'"
            ],
            "application/vnd.google.colaboratory.intrinsic+json": {
              "type": "string"
            }
          },
          "metadata": {},
          "execution_count": 62
        }
      ]
    },
    {
      "cell_type": "markdown",
      "source": [
        "Indexing lets us get at individual items from a particular list. Note that the first item in the list is item[0]. The second item is item[1]. That's because counting in Python, and in almost all programming languages, starts from 0.\n",
        "\n",
        "Additionally, you can print out the last item in a list using negative numbers, where -1 denotes the last item in the list. For instance, if you were to add:\n",
        "\n",
        "```python\n",
        "print(cities[-1])\n",
        "```\n",
        "\n",
        "\n",
        "to the cities program, it would print the last item in the cities list. -2 would print the second to last item, -3 the third to last, and so on."
      ],
      "metadata": {
        "id": "cwcJb1Xv9yZm"
      }
    },
    {
      "cell_type": "code",
      "source": [
        "cities[-1]"
      ],
      "metadata": {
        "colab": {
          "base_uri": "https://localhost:8080/",
          "height": 35
        },
        "id": "KbbubGVC97u-",
        "outputId": "4083f4fe-8151-45b1-ca89-c9f8cf205606"
      },
      "execution_count": 63,
      "outputs": [
        {
          "output_type": "execute_result",
          "data": {
            "text/plain": [
              "'Istanbul'"
            ],
            "application/vnd.google.colaboratory.intrinsic+json": {
              "type": "string"
            }
          },
          "metadata": {},
          "execution_count": 63
        }
      ]
    },
    {
      "cell_type": "code",
      "source": [
        "cities[-2]"
      ],
      "metadata": {
        "colab": {
          "base_uri": "https://localhost:8080/",
          "height": 35
        },
        "id": "vcP54cSK9-qy",
        "outputId": "d251b0c7-3292-4841-c99f-be0568a88112"
      },
      "execution_count": 64,
      "outputs": [
        {
          "output_type": "execute_result",
          "data": {
            "text/plain": [
              "'Tokyo'"
            ],
            "application/vnd.google.colaboratory.intrinsic+json": {
              "type": "string"
            }
          },
          "metadata": {},
          "execution_count": 64
        }
      ]
    },
    {
      "cell_type": "markdown",
      "source": [
        "### Slicing Lists\n",
        "\n",
        "There are many things you can do with list indexing, like slicing. Slicing consists of taking a section of a list, using the list index to pick out a range of list items. For example, you could take out the first two items of a list with a slice that begins with 0 and ends with 2.\n",
        "\n",
        "The slice syntax consists of square brackets, start point and end point, and a colon to indicate the gap in between. This should print out the first two items of your list. Go ahead and add the following line to the code below to see slicing in action:\n",
        "\n",
        "```python\n",
        "print(cities[0:2])\n",
        "```\n",
        "\n",
        "Note a couple of things. First, the start point is inclusive, meaning that Python will include the [0] item in your range, and the end point is exclusive, so Python won't print the [2] item. Instead, it will print everything up until that [2] item.\n",
        "\n",
        "For ultimate brevity, you can also write this expression as:\n",
        "\n",
        "```python\n",
        "print(cities[:2])\n",
        "```\n",
        "\n",
        "The empty value before the colon allows Python to assume the range starts at the first list item, at [0]. You can also end the slice with :, if you want the list range to include all subsequent items until the end of the list.\n",
        "\n",
        "The example below will print everything from the second item to the end of the list.\n",
        "\n",
        "```python\n",
        "print(cities[1:])\n",
        "```\n"
      ],
      "metadata": {
        "id": "0t1iY90n-JOb"
      }
    },
    {
      "cell_type": "code",
      "source": [
        "cities[0:2]"
      ],
      "metadata": {
        "colab": {
          "base_uri": "https://localhost:8080/"
        },
        "id": "CWeR1YaK-qMn",
        "outputId": "4d61f8ec-b384-48dc-962a-45333aa3d5aa"
      },
      "execution_count": 65,
      "outputs": [
        {
          "output_type": "execute_result",
          "data": {
            "text/plain": [
              "['Paris', 'New York']"
            ]
          },
          "metadata": {},
          "execution_count": 65
        }
      ]
    },
    {
      "cell_type": "code",
      "source": [
        "cities[:2]"
      ],
      "metadata": {
        "colab": {
          "base_uri": "https://localhost:8080/"
        },
        "id": "6wnjo2hk-8eo",
        "outputId": "12402dd8-378d-4afa-d899-65b559b8441a"
      },
      "execution_count": 66,
      "outputs": [
        {
          "output_type": "execute_result",
          "data": {
            "text/plain": [
              "['Paris', 'New York']"
            ]
          },
          "metadata": {},
          "execution_count": 66
        }
      ]
    },
    {
      "cell_type": "code",
      "source": [
        "cities[1:]"
      ],
      "metadata": {
        "colab": {
          "base_uri": "https://localhost:8080/"
        },
        "id": "Aa1TlWVF-_fx",
        "outputId": "1d298ed6-2768-450c-bdd7-1c159015adae"
      },
      "execution_count": 67,
      "outputs": [
        {
          "output_type": "execute_result",
          "data": {
            "text/plain": [
              "['New York', 'London', 'Tokyo', 'Istanbul']"
            ]
          },
          "metadata": {},
          "execution_count": 67
        }
      ]
    },
    {
      "cell_type": "markdown",
      "source": [
        "### Challenge\n",
        "\n",
        "Create a new list of books with at least 5 books in your list. Make sure the total number of books in the list is an odd number. How do you get python to print out the book in the middle of the list? What about the three books in the middle? Remember that the first value in a slice is inclusive, and the final value is exclusive."
      ],
      "metadata": {
        "id": "nEMjGRkIAUw1"
      }
    },
    {
      "cell_type": "code",
      "source": [
        "#your code here"
      ],
      "metadata": {
        "id": "8JLysWP8AsAe"
      },
      "execution_count": 68,
      "outputs": []
    },
    {
      "cell_type": "markdown",
      "source": [
        "### List Methods\n",
        "\n",
        "Lists also have a number of special methods that can be used with them, such as a method for adding items to a list.\n",
        "\n",
        "| **List Method** | **Explanation**                                                                                   |\n",
        "|-------------|---------------------------------------------------------------------------------------------------|\n",
        "| `list.append(another_item)`          | adds new item to end of list                                                                                |\n",
        "| `list.extend(another_list)`        | adds items from another_list to list                                                |\n",
        "| `list.remove(item)`        | removes first instance of item                                                       |\n",
        "| `list.sort(reverse=False)`       | sort the order of list                                                                                 |                                                     |\n",
        "| `list.reverse()`       | reverses order of list                                                                                 |                                                     |\n",
        "\n",
        "#### Add item to list:\n"
      ],
      "metadata": {
        "id": "8HdX97dMBr_n"
      }
    },
    {
      "cell_type": "code",
      "source": [
        "cities"
      ],
      "metadata": {
        "colab": {
          "base_uri": "https://localhost:8080/"
        },
        "id": "Bn0F4EBkCmkI",
        "outputId": "c9c541fb-fedd-41ca-c1c9-18949c383a2e"
      },
      "execution_count": 69,
      "outputs": [
        {
          "output_type": "execute_result",
          "data": {
            "text/plain": [
              "['Paris', 'New York', 'London', 'Tokyo', 'Istanbul']"
            ]
          },
          "metadata": {},
          "execution_count": 69
        }
      ]
    },
    {
      "cell_type": "code",
      "source": [
        "cities.append('Nairobi')\n",
        "cities"
      ],
      "metadata": {
        "id": "q1CyR8pbCofo"
      },
      "execution_count": 70,
      "outputs": []
    },
    {
      "cell_type": "markdown",
      "source": [
        "Sort List:"
      ],
      "metadata": {
        "id": "xNbtnfdgCwp8"
      }
    },
    {
      "cell_type": "code",
      "source": [
        "cities.sort()\n",
        "cities"
      ],
      "metadata": {
        "colab": {
          "base_uri": "https://localhost:8080/"
        },
        "id": "BZjxk--pCzSi",
        "outputId": "4f9bc642-581c-403e-daca-fe4610543ee9"
      },
      "execution_count": 72,
      "outputs": [
        {
          "output_type": "execute_result",
          "data": {
            "text/plain": [
              "['Istanbul', 'London', 'Nairobi', 'New York', 'Paris', 'Tokyo']"
            ]
          },
          "metadata": {},
          "execution_count": 72
        }
      ]
    },
    {
      "cell_type": "code",
      "source": [
        "cities.reverse()\n",
        "cities"
      ],
      "metadata": {
        "colab": {
          "base_uri": "https://localhost:8080/"
        },
        "id": "7atpRE__C-1I",
        "outputId": "0378d37d-29ce-47cc-cffa-da2e5943bc91"
      },
      "execution_count": 73,
      "outputs": [
        {
          "output_type": "execute_result",
          "data": {
            "text/plain": [
              "['Tokyo', 'Paris', 'New York', 'Nairobi', 'London', 'Istanbul']"
            ]
          },
          "metadata": {},
          "execution_count": 73
        }
      ]
    },
    {
      "cell_type": "markdown",
      "source": [
        "Extend List With Another List:"
      ],
      "metadata": {
        "id": "3FpF7-8GDLHd"
      }
    },
    {
      "cell_type": "code",
      "source": [
        "countries=['Japan', 'France', 'USA', 'Kenya', 'UK', 'Turkey']"
      ],
      "metadata": {
        "id": "BSuzYtsoDNR2"
      },
      "execution_count": 74,
      "outputs": []
    },
    {
      "cell_type": "code",
      "source": [
        "countries.extend(cities)"
      ],
      "metadata": {
        "id": "brenn0rgDkEH"
      },
      "execution_count": 75,
      "outputs": []
    },
    {
      "cell_type": "code",
      "source": [
        "countries"
      ],
      "metadata": {
        "colab": {
          "base_uri": "https://localhost:8080/"
        },
        "id": "p4K_OE7GDtvh",
        "outputId": "357c58e6-e7cf-4d3c-b7fc-f94b3053c027"
      },
      "execution_count": 76,
      "outputs": [
        {
          "output_type": "execute_result",
          "data": {
            "text/plain": [
              "['Japan',\n",
              " 'France',\n",
              " 'USA',\n",
              " 'Kenya',\n",
              " 'UK',\n",
              " 'Turkey',\n",
              " 'Tokyo',\n",
              " 'Paris',\n",
              " 'New York',\n",
              " 'Nairobi',\n",
              " 'London',\n",
              " 'Istanbul']"
            ]
          },
          "metadata": {},
          "execution_count": 76
        }
      ]
    },
    {
      "cell_type": "markdown",
      "source": [
        "## Loops\n",
        "\n",
        "What if we want to print out each item in the list separately? For that, we'll need something called a loop.\n",
        "\n",
        "Add the following lines of code to the editor below:\n",
        "\n",
        "```python\n",
        "for city in cities:\n",
        "    print(\"My favorite city is \" + city)\n",
        "```\n",
        "\n"
      ],
      "metadata": {
        "id": "ym0dCPUwAt6n"
      }
    },
    {
      "cell_type": "code",
      "source": [
        "for city in cities:\n",
        "    print(\"My favorite city is \" + city)"
      ],
      "metadata": {
        "colab": {
          "base_uri": "https://localhost:8080/"
        },
        "id": "S9PGP0vLFSNY",
        "outputId": "c07ea75f-93d9-417a-db4f-c5a054b38653"
      },
      "execution_count": 77,
      "outputs": [
        {
          "output_type": "stream",
          "name": "stdout",
          "text": [
            "My favorite city is Tokyo\n",
            "My favorite city is Paris\n",
            "My favorite city is New York\n",
            "My favorite city is Nairobi\n",
            "My favorite city is London\n",
            "My favorite city is Istanbul\n"
          ]
        }
      ]
    },
    {
      "cell_type": "markdown",
      "source": [
        "What's happening here? This kind of loop is called a \"for loop\", and tells Python: \"for each item in the list, do something.\"\n",
        "\n",
        "A basic basic for loop will consist of two lines:\n",
        "- On the first line, you type the English word for, a new variable name for each item in the list, the English word in, the name of the list, and a colon (:)\n",
        "- On the second line, you indent and write an instruction or “statement” to be completed for each item in the list\n",
        "\n",
        "Let's break it down:\n",
        "\n",
        "```python\n",
        "for <variable name> in <list name>:\n",
        "    <do something>\n",
        "```\n",
        "\n",
        "Indented code like this is known as a \"code block.\" Python will run the <do something> code in the code block once for each item in the list. You can also refer to <variable name> in the <do something> block.\n",
        "\n",
        "You can also loop through items within a string. Type the following code into the editor below:\n",
        "\n",
        "```\n",
        "for letter in \"hello\":\n",
        "    print(letter)\n",
        "```"
      ],
      "metadata": {
        "id": "jUaG0uRuA_Jt"
      }
    },
    {
      "cell_type": "code",
      "source": [
        "for letter in \"hello\":\n",
        "    print(letter)"
      ],
      "metadata": {
        "colab": {
          "base_uri": "https://localhost:8080/"
        },
        "id": "nq4OR4yTBN6Y",
        "outputId": "51403293-8db0-4910-be54-35f0f69ffd66"
      },
      "execution_count": 78,
      "outputs": [
        {
          "output_type": "stream",
          "name": "stdout",
          "text": [
            "h\n",
            "e\n",
            "l\n",
            "l\n",
            "o\n"
          ]
        }
      ]
    },
    {
      "cell_type": "markdown",
      "source": [
        "### Challenge!\n",
        "\n",
        "Here's a list of numbers:\n",
        "\n",
        "```python\n",
        "prime_numbers = [2, 3, 5, 7, 11]\n",
        "```\n",
        "\n",
        "Write some code to print out the square of each of these numbers. Remember that the square of a number is that number times itself."
      ],
      "metadata": {
        "id": "x847JW6_BYM4"
      }
    },
    {
      "cell_type": "code",
      "source": [
        "#your code here"
      ],
      "metadata": {
        "id": "u4NgYV1bB2VQ"
      },
      "execution_count": null,
      "outputs": []
    },
    {
      "cell_type": "markdown",
      "source": [
        "Now try writing a for loop using an f-string (see above for definition) to get the following output:\n",
        "\n",
        "```python\n",
        "The square of 2 is 4.\n",
        "The square of 3 is 9.\n",
        "The square of 5 is 25.\n",
        "The square of 7 is 49.\n",
        "The square of 11 is 121.\n",
        "```\n"
      ],
      "metadata": {
        "id": "g-Yov38iCFya"
      }
    },
    {
      "cell_type": "code",
      "source": [
        "#your code here"
      ],
      "metadata": {
        "id": "7V3ct7F7CSrQ"
      },
      "execution_count": null,
      "outputs": []
    }
  ]
}